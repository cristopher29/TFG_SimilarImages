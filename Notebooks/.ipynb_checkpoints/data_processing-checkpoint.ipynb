{
 "cells": [
  {
   "cell_type": "markdown",
   "metadata": {},
   "source": [
    "### Data processing"
   ]
  },
  {
   "cell_type": "markdown",
   "metadata": {},
   "source": [
    "## TXT Data"
   ]
  },
  {
   "cell_type": "markdown",
   "metadata": {},
   "source": [
    "Leemos los datos desde el fichero .txt proporcionado"
   ]
  },
  {
   "cell_type": "code",
   "execution_count": 1,
   "metadata": {},
   "outputs": [],
   "source": [
    "import re, os\n",
    "import numpy as np\n",
    "import unicodedata\n",
    "import pandas as pd \n",
    "\n",
    "df_split = pd.DataFrame(columns=['tag', 'filename', 'author'])\n",
    "\n",
    "def strip_accents(text):\n",
    "    try:\n",
    "        text = unicode(text, 'utf-8')\n",
    "    except NameError:\n",
    "        pass\n",
    "    text = unicodedata.normalize('NFD', text)\\\n",
    "           .encode('ascii', 'ignore')\\\n",
    "           .decode(\"utf-8\")\n",
    "    return str(text)\n",
    "\n",
    "filepath = 'impressors_filtrat.txt'\n",
    "count = -1;\n",
    "last_author = ''\n",
    "with open(filepath) as fp:\n",
    "    line = fp.readline()\n",
    "    while line:\n",
    "        line = line.strip()\n",
    "        if line[:3] == '100' or line[:3] == '110': #author\n",
    "            count+=1\n",
    "            if '$d' in line:\n",
    "                last_author = line[line.index('$a')+2:line.index('$d')-1] + ' ' + line[line.index('$d')+2:line.index('#')]\n",
    "            else:\n",
    "                last_author = line[line.index('$a')+2:line.index('#')]\n",
    "            last_author = last_author.strip()\n",
    "            df_split.loc[count, 'author'] = last_author\n",
    "        if line[:3] == '859':\n",
    "            urls_split = line.split('$xR')\n",
    "            urls = []\n",
    "            for url in urls_split:\n",
    "                urls.append(re.findall(r'(https?://[^\\s]+)', url))\n",
    "            urls = [item.replace('$zDates:', '').replace('$5ES-BaUB#','') for sublist in urls for item in sublist]\n",
    "            tag = []\n",
    "            for txt in line.split(','):\n",
    "                t = ''\n",
    "                if txt.find(\"$c\") != -1 and txt.find(\"$e\") != -1:\n",
    "                    t = txt[txt.index('$c')+2:txt.index('$e')].strip()\n",
    "                elif txt.find(\"$c\") != -1:\n",
    "                    t = txt[txt.index('$c')+2:].strip()\n",
    "                elif txt.find(\"$e\") != -1:\n",
    "                    t = txt[:txt.index('$e')].strip()\n",
    "                if t != '':\n",
    "                    t = strip_accents(t)\n",
    "                    t = t.replace(' i ','').replace(' de ', ' ').replace(' del ', ' ').replace(\"d'\",'').replace('.','').replace('(','').replace(')','').strip().lower()\n",
    "                    t_split = t.split(' ')\n",
    "                    for tt in t_split:\n",
    "                        if tt != ' ':\n",
    "                            tag.append(tt)\n",
    "            if len(tag) > 0:\n",
    "                df_split.loc[count, 'tag'] = tag\n",
    "            else:\n",
    "                df_split.loc[count, 'tag'] = np.nan\n",
    "            if len(urls) > 0:\n",
    "                df_split.loc[count, 'filename'] = urls\n",
    "            else:\n",
    "                df_split.loc[count, 'filename'] = np.nan\n",
    "        line = fp.readline()"
   ]
  },
  {
   "cell_type": "markdown",
   "metadata": {},
   "source": [
    "Obtenemos un DataFrame con los datos en 3 columnas diferentes para los tags, archivos y autores, eliminamos los que no tengan tags"
   ]
  },
  {
   "cell_type": "code",
   "execution_count": 2,
   "metadata": {},
   "outputs": [
    {
     "name": "stdout",
     "output_type": "stream",
     "text": [
      "1805\n"
     ]
    },
    {
     "data": {
      "text/html": [
       "<div>\n",
       "<style scoped>\n",
       "    .dataframe tbody tr th:only-of-type {\n",
       "        vertical-align: middle;\n",
       "    }\n",
       "\n",
       "    .dataframe tbody tr th {\n",
       "        vertical-align: top;\n",
       "    }\n",
       "\n",
       "    .dataframe thead th {\n",
       "        text-align: right;\n",
       "    }\n",
       "</style>\n",
       "<table border=\"1\" class=\"dataframe\">\n",
       "  <thead>\n",
       "    <tr style=\"text-align: right;\">\n",
       "      <th></th>\n",
       "      <th>tag</th>\n",
       "      <th>filename</th>\n",
       "      <th>author</th>\n",
       "    </tr>\n",
       "  </thead>\n",
       "  <tbody>\n",
       "    <tr>\n",
       "      <th>0</th>\n",
       "      <td>[destral, tronc]</td>\n",
       "      <td>[https://crai.ub.edu/sites/default/files/impre...</td>\n",
       "      <td>Dolet, Étienne 1509-1546</td>\n",
       "    </tr>\n",
       "    <tr>\n",
       "      <th>1</th>\n",
       "      <td>[aguila, escorpi]</td>\n",
       "      <td>[https://crai.ub.edu/sites/default/files/impre...</td>\n",
       "      <td>Nájera, Esteban de</td>\n",
       "    </tr>\n",
       "    <tr>\n",
       "      <th>2</th>\n",
       "      <td>[ancora, dofi]</td>\n",
       "      <td>[https://crai.ub.edu/sites/default/files/impre...</td>\n",
       "      <td>Manuzio, Paolo 1512-1574</td>\n",
       "    </tr>\n",
       "    <tr>\n",
       "      <th>3</th>\n",
       "      <td>[esfera, hercules]</td>\n",
       "      <td>[https://crai.ub.edu/sites/default/files/impre...</td>\n",
       "      <td>Blaeu, Joan 1596-1673</td>\n",
       "    </tr>\n",
       "    <tr>\n",
       "      <th>4</th>\n",
       "      <td>[minerva, tolosa]</td>\n",
       "      <td>[https://crai.ub.edu/sites/default/files/impre...</td>\n",
       "      <td>Colomiez, Arnaud -1666</td>\n",
       "    </tr>\n",
       "  </tbody>\n",
       "</table>\n",
       "</div>"
      ],
      "text/plain": [
       "                  tag                                           filename  \\\n",
       "0    [destral, tronc]  [https://crai.ub.edu/sites/default/files/impre...   \n",
       "1   [aguila, escorpi]  [https://crai.ub.edu/sites/default/files/impre...   \n",
       "2      [ancora, dofi]  [https://crai.ub.edu/sites/default/files/impre...   \n",
       "3  [esfera, hercules]  [https://crai.ub.edu/sites/default/files/impre...   \n",
       "4   [minerva, tolosa]  [https://crai.ub.edu/sites/default/files/impre...   \n",
       "\n",
       "                     author  \n",
       "0  Dolet, Étienne 1509-1546  \n",
       "1        Nájera, Esteban de  \n",
       "2  Manuzio, Paolo 1512-1574  \n",
       "3     Blaeu, Joan 1596-1673  \n",
       "4    Colomiez, Arnaud -1666  "
      ]
     },
     "execution_count": 2,
     "metadata": {},
     "output_type": "execute_result"
    }
   ],
   "source": [
    "df_split = df_split[df_split['tag'].notna()]\n",
    "df_split = df_split.reset_index(drop=True)\n",
    "print(len(df_split))\n",
    "df_split.head()"
   ]
  },
  {
   "cell_type": "markdown",
   "metadata": {},
   "source": [
    "Cambiamos las urls por nombre de archivos"
   ]
  },
  {
   "cell_type": "code",
   "execution_count": 3,
   "metadata": {},
   "outputs": [
    {
     "data": {
      "text/html": [
       "<div>\n",
       "<style scoped>\n",
       "    .dataframe tbody tr th:only-of-type {\n",
       "        vertical-align: middle;\n",
       "    }\n",
       "\n",
       "    .dataframe tbody tr th {\n",
       "        vertical-align: top;\n",
       "    }\n",
       "\n",
       "    .dataframe thead th {\n",
       "        text-align: right;\n",
       "    }\n",
       "</style>\n",
       "<table border=\"1\" class=\"dataframe\">\n",
       "  <thead>\n",
       "    <tr style=\"text-align: right;\">\n",
       "      <th></th>\n",
       "      <th>tag</th>\n",
       "      <th>filename</th>\n",
       "      <th>author</th>\n",
       "    </tr>\n",
       "  </thead>\n",
       "  <tbody>\n",
       "    <tr>\n",
       "      <th>0</th>\n",
       "      <td>[destral, tronc]</td>\n",
       "      <td>[10247993b.jpg]</td>\n",
       "      <td>Dolet, Étienne 1509-1546</td>\n",
       "    </tr>\n",
       "    <tr>\n",
       "      <th>1</th>\n",
       "      <td>[aguila, escorpi]</td>\n",
       "      <td>[0127615a.jpg]</td>\n",
       "      <td>Nájera, Esteban de</td>\n",
       "    </tr>\n",
       "    <tr>\n",
       "      <th>2</th>\n",
       "      <td>[ancora, dofi]</td>\n",
       "      <td>[0076522a.jpg, 0076522b.jpg, 0076522c.jpg]</td>\n",
       "      <td>Manuzio, Paolo 1512-1574</td>\n",
       "    </tr>\n",
       "    <tr>\n",
       "      <th>3</th>\n",
       "      <td>[esfera, hercules]</td>\n",
       "      <td>[0009492a.jpg, 0009492b.jpg]</td>\n",
       "      <td>Blaeu, Joan 1596-1673</td>\n",
       "    </tr>\n",
       "    <tr>\n",
       "      <th>4</th>\n",
       "      <td>[minerva, tolosa]</td>\n",
       "      <td>[0000005a.jpg, 11601693a.jpg]</td>\n",
       "      <td>Colomiez, Arnaud -1666</td>\n",
       "    </tr>\n",
       "  </tbody>\n",
       "</table>\n",
       "</div>"
      ],
      "text/plain": [
       "                  tag                                    filename  \\\n",
       "0    [destral, tronc]                             [10247993b.jpg]   \n",
       "1   [aguila, escorpi]                              [0127615a.jpg]   \n",
       "2      [ancora, dofi]  [0076522a.jpg, 0076522b.jpg, 0076522c.jpg]   \n",
       "3  [esfera, hercules]                [0009492a.jpg, 0009492b.jpg]   \n",
       "4   [minerva, tolosa]               [0000005a.jpg, 11601693a.jpg]   \n",
       "\n",
       "                     author  \n",
       "0  Dolet, Étienne 1509-1546  \n",
       "1        Nájera, Esteban de  \n",
       "2  Manuzio, Paolo 1512-1574  \n",
       "3     Blaeu, Joan 1596-1673  \n",
       "4    Colomiez, Arnaud -1666  "
      ]
     },
     "execution_count": 3,
     "metadata": {},
     "output_type": "execute_result"
    }
   ],
   "source": [
    "def f_rename(urls):\n",
    "    new = list()\n",
    "    for url in urls:\n",
    "        new.append(url[url.rfind(\"/\")+1:])\n",
    "    return new\n",
    "\n",
    "df_split['filename'] = df_split['filename'].apply(lambda urls: f_rename(urls))\n",
    "df_split.head()"
   ]
  },
  {
   "cell_type": "markdown",
   "metadata": {},
   "source": [
    "Separamos por fila cada tag con su respectiva imagen"
   ]
  },
  {
   "cell_type": "code",
   "execution_count": 4,
   "metadata": {},
   "outputs": [
    {
     "data": {
      "text/html": [
       "<div>\n",
       "<style scoped>\n",
       "    .dataframe tbody tr th:only-of-type {\n",
       "        vertical-align: middle;\n",
       "    }\n",
       "\n",
       "    .dataframe tbody tr th {\n",
       "        vertical-align: top;\n",
       "    }\n",
       "\n",
       "    .dataframe thead th {\n",
       "        text-align: right;\n",
       "    }\n",
       "</style>\n",
       "<table border=\"1\" class=\"dataframe\">\n",
       "  <thead>\n",
       "    <tr style=\"text-align: right;\">\n",
       "      <th></th>\n",
       "      <th>tag</th>\n",
       "      <th>filename</th>\n",
       "      <th>author</th>\n",
       "    </tr>\n",
       "  </thead>\n",
       "  <tbody>\n",
       "    <tr>\n",
       "      <th>0</th>\n",
       "      <td>[destral, tronc]</td>\n",
       "      <td>10247993b.jpg</td>\n",
       "      <td>Dolet, Étienne 1509-1546</td>\n",
       "    </tr>\n",
       "    <tr>\n",
       "      <th>1</th>\n",
       "      <td>[aguila, escorpi]</td>\n",
       "      <td>0127615a.jpg</td>\n",
       "      <td>Nájera, Esteban de</td>\n",
       "    </tr>\n",
       "    <tr>\n",
       "      <th>2</th>\n",
       "      <td>[ancora, dofi]</td>\n",
       "      <td>0076522a.jpg</td>\n",
       "      <td>Manuzio, Paolo 1512-1574</td>\n",
       "    </tr>\n",
       "    <tr>\n",
       "      <th>3</th>\n",
       "      <td>[ancora, dofi]</td>\n",
       "      <td>0076522b.jpg</td>\n",
       "      <td>Manuzio, Paolo 1512-1574</td>\n",
       "    </tr>\n",
       "    <tr>\n",
       "      <th>4</th>\n",
       "      <td>[ancora, dofi]</td>\n",
       "      <td>0076522c.jpg</td>\n",
       "      <td>Manuzio, Paolo 1512-1574</td>\n",
       "    </tr>\n",
       "  </tbody>\n",
       "</table>\n",
       "</div>"
      ],
      "text/plain": [
       "                 tag       filename                    author\n",
       "0   [destral, tronc]  10247993b.jpg  Dolet, Étienne 1509-1546\n",
       "1  [aguila, escorpi]   0127615a.jpg        Nájera, Esteban de\n",
       "2     [ancora, dofi]   0076522a.jpg  Manuzio, Paolo 1512-1574\n",
       "3     [ancora, dofi]   0076522b.jpg  Manuzio, Paolo 1512-1574\n",
       "4     [ancora, dofi]   0076522c.jpg  Manuzio, Paolo 1512-1574"
      ]
     },
     "execution_count": 4,
     "metadata": {},
     "output_type": "execute_result"
    }
   ],
   "source": [
    "df_by_filename = pd.DataFrame(columns=['tag', 'filename', 'author'])\n",
    "count = 0\n",
    "for index, row in df_split.iterrows():\n",
    "    for i, url in enumerate(row['filename']):\n",
    "        if os.path.exists('imgs/'+url):\n",
    "            df_by_filename.loc[count] = [row['tag'], url, row['author']]\n",
    "            count+=1    \n",
    "df_by_filename.head() "
   ]
  },
  {
   "cell_type": "markdown",
   "metadata": {},
   "source": [
    "Verificamos el numero de tags que aparecen "
   ]
  },
  {
   "cell_type": "code",
   "execution_count": 5,
   "metadata": {},
   "outputs": [
    {
     "name": "stdout",
     "output_type": "stream",
     "text": [
      "494\n"
     ]
    },
    {
     "data": {
      "text/html": [
       "<div>\n",
       "<style scoped>\n",
       "    .dataframe tbody tr th:only-of-type {\n",
       "        vertical-align: middle;\n",
       "    }\n",
       "\n",
       "    .dataframe tbody tr th {\n",
       "        vertical-align: top;\n",
       "    }\n",
       "\n",
       "    .dataframe thead th {\n",
       "        text-align: right;\n",
       "    }\n",
       "</style>\n",
       "<table border=\"1\" class=\"dataframe\">\n",
       "  <thead>\n",
       "    <tr style=\"text-align: right;\">\n",
       "      <th></th>\n",
       "      <th>tag</th>\n",
       "      <th>count</th>\n",
       "    </tr>\n",
       "  </thead>\n",
       "  <tbody>\n",
       "    <tr>\n",
       "      <th>0</th>\n",
       "      <td>destral</td>\n",
       "      <td>1</td>\n",
       "    </tr>\n",
       "    <tr>\n",
       "      <th>1</th>\n",
       "      <td>arada</td>\n",
       "      <td>1</td>\n",
       "    </tr>\n",
       "    <tr>\n",
       "      <th>2</th>\n",
       "      <td>llebrer</td>\n",
       "      <td>1</td>\n",
       "    </tr>\n",
       "    <tr>\n",
       "      <th>3</th>\n",
       "      <td>reina</td>\n",
       "      <td>1</td>\n",
       "    </tr>\n",
       "    <tr>\n",
       "      <th>4</th>\n",
       "      <td>jordi</td>\n",
       "      <td>1</td>\n",
       "    </tr>\n",
       "  </tbody>\n",
       "</table>\n",
       "</div>"
      ],
      "text/plain": [
       "       tag  count\n",
       "0  destral      1\n",
       "1    arada      1\n",
       "2  llebrer      1\n",
       "3    reina      1\n",
       "4    jordi      1"
      ]
     },
     "execution_count": 5,
     "metadata": {},
     "output_type": "execute_result"
    }
   ],
   "source": [
    "import numpy as np\n",
    "import itertools\n",
    "from collections import Counter\n",
    "from matplotlib import pyplot as plt\n",
    "\n",
    "def count_tags(df):\n",
    "    tags = df['tag'].to_numpy().flatten()\n",
    "    tags_counts = Counter(np.hstack(tags))\n",
    "    df_tags = pd.DataFrame.from_dict(tags_counts, orient='index')\n",
    "    df_tags.columns = ['count']\n",
    "    df_tags = df_tags.sort_values(by='count', ascending=True)\n",
    "    df_tags = df_tags.rename_axis('tag').reset_index()\n",
    "    df_tags = df_tags.drop_duplicates(subset='tag', keep=\"last\")\n",
    "    return df_tags\n",
    "\n",
    "df_tags = count_tags(df_by_filename)\n",
    "print(len(df_tags))\n",
    "df_tags.head()"
   ]
  },
  {
   "cell_type": "markdown",
   "metadata": {},
   "source": [
    "Analizamos la distribucion de los tags, hay muchos tags que aparecen una sola vez, mientras otros aparecen cientos de veces"
   ]
  },
  {
   "cell_type": "code",
   "execution_count": 6,
   "metadata": {},
   "outputs": [
    {
     "data": {
      "image/png": "[encoded data removed]",
      "text/plain": [
       "<Figure size 1440x720 with 1 Axes>"
      ]
     },
     "metadata": {
      "needs_background": "light"
     },
     "output_type": "display_data"
    }
   ],
   "source": [
    "plt.rcParams[\"figure.figsize\"] = (20,10)\n",
    "labels, values = df_tags.sort_values(\"count\", ascending=False)['tag'].to_numpy(), df_tags.sort_values(\"count\", ascending=False)['count'].to_numpy()\n",
    "indexes = np.arange(len(labels))\n",
    "plt.bar(indexes, values)\n",
    "plt.xticks(indexes, labels, rotation='vertical')\n",
    "plt.yticks(np.arange(0, max(values), step=10))\n",
    "plt.show()"
   ]
  },
  {
   "cell_type": "markdown",
   "metadata": {},
   "source": [
    "Eliminamos los tags que tengan menos de 20 imagenes con alguno de estos tags, al menos tendremos algunas imagenes relevantes que tengan un parecido amplio en dicho conjunto"
   ]
  },
  {
   "cell_type": "code",
   "execution_count": 7,
   "metadata": {},
   "outputs": [
    {
     "name": "stdout",
     "output_type": "stream",
     "text": [
      "['destral', 'arada', 'llebrer', 'reina', 'jordi', 'miquel', 'estany', 'nicolau', 'martinet', 'facana', 'casa', 'llei', 'terra', 'pissarra', 'paris', 'orla', 'capitolina', 'brollador', 'thomas', 'morter', 'wolff', 'pedestal', 'partitura', 'monja', 'magdalena', 'maria', 'fruit', 'laocoont', 'tours', 'aquino', 'tomas', 'ase', 'pupitre', 'llantia', 'jehova', 'turo', 'concupiscencia', 'jerusalem', 'temple', 'corda', 'faristol', 'pentacle', 'victorios', 'mensula', 'adoracio', 'castedat', 'pandora', 'sinai', 'mont', 'manaments', 'urna', 'gra', 'finestra', 'esfinx', 'tempranca', 'barca', 'escalpel', 'anec', 'ou', 'herma', 'molto', 'pietat', 'claudi', 'maca', 'foc', 'passio', 'arc', 'cim', 'escaire', 'bacul', 'eixam', 'este', 'ii', 'alfons', 'onada', 'helle', 'gran', 'constanti', 'gavella', 'constancia', 'basilea', 'artesa', 'cisell', 'constellacio', 'coll', 'poma', 'llatina', 'taure', 'neptu', 'mula', 'dionis', 'ruinas', 'verona', 'tessalonica', 'ciril', 'rat-penat', 'medici-capello', 'vivat', 'ut', 'esplendent$zdivisa:', 'sota', 'ovella', 'piemont', 'boc', 'faisa', 'cristofol', 'bolonya', 'planter', 'estendard', 'oliba', 'concepcio', 'immaculada', 'caduceul', 'espi', 'porc', 'unicorni', 'gira-sol', 'foguera', 'delis', 'espiga', 'rao', 'marenzi', 'lleons', 'llis', 'art', 'barrina', 'lluna', 'animal', 'parnas', 'emperador', 'mosca', 'soldat', 'crucifix', 'coliflor', 'cigne', 'cami', 'roda', 'tetramorf', 'llanca', 'siena', 'bernardi', 'campana', 'donzella', 'magraner', 'climent', 'bandolera', 'xi', 'ermita', 'lleopard', 'espira', 'arquitecte', 'pera', 'alighieri', 'dante', 'porro', 'ipsilon', 'ruina', 'roser', 'composicio', 'ala', 'franca', 'canelobre', 'enveja', 'zeus', 'jacob', 'capoll', 'porta', 'bon', 'cesar', 'treball', 'crisostom', 'fil', 'fac', 'juli', 'bou', 'dindi', 'jove', 'abecedari', 'tisores', 'timo', 'perseu', 'teler', 'dedal', 'viola', 'ploma', 'hipocrene', 'toro', 'amfora', 'cano', 'jardi', 'el', 'pan', 'teatre', 'ferradura', 'eva', 'pentalfa', 'mapa', 'fulla', 'cerber', 'mico', 'card', 'casc', 'plomada', 'tron', 'concordia', 'quimera', 'hipogriu', 'providencia', 'tobies', 'riba', 'pobresa', 'triangle', 'cartella', 'besso', 'cormora', 'lliri', 'ganivet', 'escull', 'colofo', 'magrana', 'paciencia', 'moro', 'piramide', 'argelaga', 'tabernacle', 'gegant', 'garsa', 'lloba', 'euclides', 'daniel', 'theta', 'sibilla', 'marti', 'janus', 'barret', 'cavaller', 'esquelet', 'llaurador', 'catala:', 'forjador', 'jonas', 'hydra', 'llebre', 'capella', 'cacador', 'planol', 'galera', 'amistat', 'atenea', 'cervol', 'corb', 'europa', 'papal', 'carro', 'guerrer', 'hebreu', 'bordo', 'violi', 'enclusa', 'camp', 'circumferencia', 'toscana', 'abundancia', 'llima', 'cartell', 'ull', 'torxa', 'calavera', 'pere', 'ramell', 'llamp', 'figura', 'prudencia', 'nacio', 'riu', 'paga', 'roba', 'vigilancia', 'ornamentacio', 'heura', 'saviesa', 'medici', 'cara', 'cria', 'moli', 'espelma', 'opinio', 'elm', 'marc', 'bellerofontes', 'pastor', 'erico', 'lloro', 'anunciacio', 'pou', 'elies', 'blat', 'espina', 'humilitat', 'apollo', 'roma', 'boca', 'falc', 'priene', 'bias', 'tempesta', 'bola', 'jason', 'rei', 'cupido', 'tronc', 'cub', 'monstre', 'pelegri', 'vell', 'adam', 'isaac', 'abraham', 'cap', 'raim', 'escorpi', 'xai', 'espigues', 'mare', 'alzina', 'granota', 'guineu', 'santa', 'impressor', 'infant', 'mari', 'llop', 'mon', 'venecia', 'tolosa', 'virtut', 'baptista', 'hostia', 'planta', 'centaure', 'tortuga', 'david', 'dit', 'gabriel', 'faune', 'rafael', 'portic', 'pinya', 'arbust', 'branca', 'altar', 'obelisc', 'roca', 'peix', 'brac', 'jupiter', 'pedra', 'medallo', 'rata', 'fortalesa', 'diamant', 'banderola', 'gos', 'samaritana', 'ciutat', 'santissima', 'trinitat', 'os', 'victoria', 'barco', 'martell', 'estruc', 'bec', 'llorer', 'inscripcio', 'vela', 'ceptre', 'orfeu', 'deu', 'ario', 'balanca', 'bicefala', 'drac', 'cometa', 'oportunitat', 'ciencia', 'rosa', 'paisatge', 'cranc', 'elefant', 'nuvol', 'rusc', 'falco', 'panotxa', 'anyell', 'muntanya', 'mar', 'palma', 'arena', 'fe', 'basto', 'anell', 'grua', 'rellotge', 'vent', 'ocell', 'veritat', 'hidra', 'torre', 'espasa', 'vinya', 'jesus', 'gerro', 'italia', 'columna', 'corn', 'gallina', 'trompeta', 'biblia', 'pages', 'caritat', 'pi', 'arcangel', 'esperanca', 'religio', 'tiara', 'roure', 'gat', 'unicorn', 'evangelista', 'esperit', 'joan', 'pelica', 'justicia', 'papallona', 'impremta', 'fletxa', 'samso', 'armillar', 'cavall', 'cinta', 'cor', 'reial', 'temps', 'gall', 'colom', 'hercules', 'font', 'fama', 'nen', 'palmera']\n",
      "451\n"
     ]
    }
   ],
   "source": [
    "tags_to_remove = df_tags.loc[df_tags['count'] < 20]['tag'].tolist()\n",
    "print(tags_to_remove)\n",
    "print(len(tags_to_remove))"
   ]
  },
  {
   "cell_type": "markdown",
   "metadata": {},
   "source": [
    "Eliminamos los tags irrelevantes de la lista de tags de la imagen"
   ]
  },
  {
   "cell_type": "code",
   "execution_count": 8,
   "metadata": {},
   "outputs": [],
   "source": [
    "for index,row in df_by_filename.iterrows():\n",
    "    tags = row['tag'].copy()\n",
    "    result = []\n",
    "    for tag in tags:\n",
    "        if tag not in tags_to_remove:\n",
    "            result.append(tag)\n",
    "    df_by_filename.at[index,'tag'] = result"
   ]
  },
  {
   "cell_type": "markdown",
   "metadata": {},
   "source": [
    "Comprobamos el numero de tags otra vez"
   ]
  },
  {
   "cell_type": "code",
   "execution_count": 9,
   "metadata": {},
   "outputs": [
    {
     "name": "stdout",
     "output_type": "stream",
     "text": [
      "43\n"
     ]
    },
    {
     "data": {
      "text/html": [
       "<div>\n",
       "<style scoped>\n",
       "    .dataframe tbody tr th:only-of-type {\n",
       "        vertical-align: middle;\n",
       "    }\n",
       "\n",
       "    .dataframe tbody tr th {\n",
       "        vertical-align: top;\n",
       "    }\n",
       "\n",
       "    .dataframe thead th {\n",
       "        text-align: right;\n",
       "    }\n",
       "</style>\n",
       "<table border=\"1\" class=\"dataframe\">\n",
       "  <thead>\n",
       "    <tr style=\"text-align: right;\">\n",
       "      <th></th>\n",
       "      <th>tag</th>\n",
       "      <th>count</th>\n",
       "    </tr>\n",
       "  </thead>\n",
       "  <tbody>\n",
       "    <tr>\n",
       "      <th>0</th>\n",
       "      <td>sirena</td>\n",
       "      <td>20</td>\n",
       "    </tr>\n",
       "    <tr>\n",
       "      <th>1</th>\n",
       "      <td>mercuri</td>\n",
       "      <td>21</td>\n",
       "    </tr>\n",
       "    <tr>\n",
       "      <th>2</th>\n",
       "      <td>estrella</td>\n",
       "      <td>21</td>\n",
       "    </tr>\n",
       "    <tr>\n",
       "      <th>3</th>\n",
       "      <td>caduceu</td>\n",
       "      <td>22</td>\n",
       "    </tr>\n",
       "    <tr>\n",
       "      <th>4</th>\n",
       "      <td>abella</td>\n",
       "      <td>22</td>\n",
       "    </tr>\n",
       "  </tbody>\n",
       "</table>\n",
       "</div>"
      ],
      "text/plain": [
       "        tag  count\n",
       "0    sirena     20\n",
       "1   mercuri     21\n",
       "2  estrella     21\n",
       "3   caduceu     22\n",
       "4    abella     22"
      ]
     },
     "execution_count": 9,
     "metadata": {},
     "output_type": "execute_result"
    }
   ],
   "source": [
    "df_tags = count_tags(df_by_filename)\n",
    "print(len(df_tags))\n",
    "df_tags.head()"
   ]
  },
  {
   "cell_type": "markdown",
   "metadata": {},
   "source": [
    "Comprobamos si se han eliminado correctamente"
   ]
  },
  {
   "cell_type": "code",
   "execution_count": 10,
   "metadata": {},
   "outputs": [
    {
     "name": "stdout",
     "output_type": "stream",
     "text": [
      "False\n"
     ]
    }
   ],
   "source": [
    "df_tags['tag'].to_numpy().flatten()\n",
    "print('wolff' in np.hstack(tags))"
   ]
  },
  {
   "cell_type": "markdown",
   "metadata": {},
   "source": [
    "Eliminamos las imagenes que no tengan un tag"
   ]
  },
  {
   "cell_type": "code",
   "execution_count": 7,
   "metadata": {},
   "outputs": [
    {
     "name": "stdout",
     "output_type": "stream",
     "text": [
      "2189\n",
      "2189\n"
     ]
    }
   ],
   "source": [
    "print(len(df_by_filename))\n",
    "for index,row in df_by_filename.iterrows():\n",
    "    if len(row['tag']) == 0:\n",
    "        df_by_filename.drop(index, inplace=True)\n",
    "df_by_filename.reset_index(drop=True, inplace=True)\n",
    "print(len(df_by_filename))"
   ]
  },
  {
   "cell_type": "markdown",
   "metadata": {},
   "source": [
    "Comprobamos la distribucion de los tags"
   ]
  },
  {
   "cell_type": "code",
   "execution_count": 12,
   "metadata": {},
   "outputs": [
    {
     "data": {
      "image/png": "[encoded data removed]",
      "text/plain": [
       "<Figure size 1440x720 with 1 Axes>"
      ]
     },
     "metadata": {
      "needs_background": "light"
     },
     "output_type": "display_data"
    }
   ],
   "source": [
    "plt.rcParams[\"figure.figsize\"] = (20,10)\n",
    "labels, values = df_tags.sort_values(\"count\", ascending=False)['tag'].to_numpy(), df_tags.sort_values(\"count\", ascending=False)['count'].to_numpy()\n",
    "indexes = np.arange(len(labels))\n",
    "plt.bar(indexes, values)\n",
    "plt.xticks(indexes, labels, rotation='vertical')\n",
    "plt.yticks(np.arange(0, max(values), step=10))\n",
    "plt.ylim(9.5,170)\n",
    "plt.show()"
   ]
  },
  {
   "cell_type": "code",
   "execution_count": 8,
   "metadata": {},
   "outputs": [
    {
     "data": {
      "text/html": [
       "<div>\n",
       "<style scoped>\n",
       "    .dataframe tbody tr th:only-of-type {\n",
       "        vertical-align: middle;\n",
       "    }\n",
       "\n",
       "    .dataframe tbody tr th {\n",
       "        vertical-align: top;\n",
       "    }\n",
       "\n",
       "    .dataframe thead th {\n",
       "        text-align: right;\n",
       "    }\n",
       "</style>\n",
       "<table border=\"1\" class=\"dataframe\">\n",
       "  <thead>\n",
       "    <tr style=\"text-align: right;\">\n",
       "      <th></th>\n",
       "      <th>tag</th>\n",
       "      <th>filename</th>\n",
       "      <th>author</th>\n",
       "    </tr>\n",
       "  </thead>\n",
       "  <tbody>\n",
       "    <tr>\n",
       "      <th>0</th>\n",
       "      <td>[destral, tronc]</td>\n",
       "      <td>10247993b.jpg</td>\n",
       "      <td>Dolet, Étienne 1509-1546</td>\n",
       "    </tr>\n",
       "    <tr>\n",
       "      <th>1</th>\n",
       "      <td>[aguila, escorpi]</td>\n",
       "      <td>0127615a.jpg</td>\n",
       "      <td>Nájera, Esteban de</td>\n",
       "    </tr>\n",
       "    <tr>\n",
       "      <th>2</th>\n",
       "      <td>[ancora, dofi]</td>\n",
       "      <td>0076522a.jpg</td>\n",
       "      <td>Manuzio, Paolo 1512-1574</td>\n",
       "    </tr>\n",
       "    <tr>\n",
       "      <th>3</th>\n",
       "      <td>[ancora, dofi]</td>\n",
       "      <td>0076522b.jpg</td>\n",
       "      <td>Manuzio, Paolo 1512-1574</td>\n",
       "    </tr>\n",
       "    <tr>\n",
       "      <th>4</th>\n",
       "      <td>[ancora, dofi]</td>\n",
       "      <td>0076522c.jpg</td>\n",
       "      <td>Manuzio, Paolo 1512-1574</td>\n",
       "    </tr>\n",
       "  </tbody>\n",
       "</table>\n",
       "</div>"
      ],
      "text/plain": [
       "                 tag       filename                    author\n",
       "0   [destral, tronc]  10247993b.jpg  Dolet, Étienne 1509-1546\n",
       "1  [aguila, escorpi]   0127615a.jpg        Nájera, Esteban de\n",
       "2     [ancora, dofi]   0076522a.jpg  Manuzio, Paolo 1512-1574\n",
       "3     [ancora, dofi]   0076522b.jpg  Manuzio, Paolo 1512-1574\n",
       "4     [ancora, dofi]   0076522c.jpg  Manuzio, Paolo 1512-1574"
      ]
     },
     "execution_count": 8,
     "metadata": {},
     "output_type": "execute_result"
    }
   ],
   "source": [
    "df_by_filename.head()"
   ]
  },
  {
   "cell_type": "markdown",
   "metadata": {},
   "source": [
    "Elimianmos duplicados"
   ]
  },
  {
   "cell_type": "code",
   "execution_count": 9,
   "metadata": {},
   "outputs": [
    {
     "name": "stdout",
     "output_type": "stream",
     "text": [
      "2092\n"
     ]
    }
   ],
   "source": [
    "df_by_filename = df_by_filename.drop_duplicates(subset='filename', keep=\"last\")\n",
    "df_by_filename = df_by_filename.reset_index(drop=True)\n",
    "print(len(df_by_filename))"
   ]
  },
  {
   "cell_type": "markdown",
   "metadata": {},
   "source": [
    "Cambiamos la lista de tags por una tupla de tags"
   ]
  },
  {
   "cell_type": "code",
   "execution_count": 10,
   "metadata": {},
   "outputs": [
    {
     "data": {
      "text/html": [
       "<div>\n",
       "<style scoped>\n",
       "    .dataframe tbody tr th:only-of-type {\n",
       "        vertical-align: middle;\n",
       "    }\n",
       "\n",
       "    .dataframe tbody tr th {\n",
       "        vertical-align: top;\n",
       "    }\n",
       "\n",
       "    .dataframe thead th {\n",
       "        text-align: right;\n",
       "    }\n",
       "</style>\n",
       "<table border=\"1\" class=\"dataframe\">\n",
       "  <thead>\n",
       "    <tr style=\"text-align: right;\">\n",
       "      <th></th>\n",
       "      <th>tag</th>\n",
       "      <th>filename</th>\n",
       "      <th>author</th>\n",
       "    </tr>\n",
       "  </thead>\n",
       "  <tbody>\n",
       "    <tr>\n",
       "      <th>0</th>\n",
       "      <td>(destral, tronc)</td>\n",
       "      <td>10247993b.jpg</td>\n",
       "      <td>Dolet, Étienne 1509-1546</td>\n",
       "    </tr>\n",
       "    <tr>\n",
       "      <th>1</th>\n",
       "      <td>(aguila, escorpi)</td>\n",
       "      <td>0127615a.jpg</td>\n",
       "      <td>Nájera, Esteban de</td>\n",
       "    </tr>\n",
       "    <tr>\n",
       "      <th>2</th>\n",
       "      <td>(ancora, dofi)</td>\n",
       "      <td>0076522a.jpg</td>\n",
       "      <td>Manuzio, Paolo 1512-1574</td>\n",
       "    </tr>\n",
       "    <tr>\n",
       "      <th>3</th>\n",
       "      <td>(ancora, dofi)</td>\n",
       "      <td>0076522b.jpg</td>\n",
       "      <td>Manuzio, Paolo 1512-1574</td>\n",
       "    </tr>\n",
       "    <tr>\n",
       "      <th>4</th>\n",
       "      <td>(ancora, dofi)</td>\n",
       "      <td>0076522c.jpg</td>\n",
       "      <td>Manuzio, Paolo 1512-1574</td>\n",
       "    </tr>\n",
       "  </tbody>\n",
       "</table>\n",
       "</div>"
      ],
      "text/plain": [
       "                 tag       filename                    author\n",
       "0   (destral, tronc)  10247993b.jpg  Dolet, Étienne 1509-1546\n",
       "1  (aguila, escorpi)   0127615a.jpg        Nájera, Esteban de\n",
       "2     (ancora, dofi)   0076522a.jpg  Manuzio, Paolo 1512-1574\n",
       "3     (ancora, dofi)   0076522b.jpg  Manuzio, Paolo 1512-1574\n",
       "4     (ancora, dofi)   0076522c.jpg  Manuzio, Paolo 1512-1574"
      ]
     },
     "execution_count": 10,
     "metadata": {},
     "output_type": "execute_result"
    }
   ],
   "source": [
    "df_by_filename['tag'] = df_by_filename['tag'].apply(lambda tags: tuple(tags))\n",
    "df_by_filename.to_pickle('data_processing_txt.pkl')\n",
    "df_by_filename.head()"
   ]
  },
  {
   "cell_type": "code",
   "execution_count": 11,
   "metadata": {},
   "outputs": [
    {
     "data": {
      "text/html": [
       "<div>\n",
       "<style scoped>\n",
       "    .dataframe tbody tr th:only-of-type {\n",
       "        vertical-align: middle;\n",
       "    }\n",
       "\n",
       "    .dataframe tbody tr th {\n",
       "        vertical-align: top;\n",
       "    }\n",
       "\n",
       "    .dataframe thead th {\n",
       "        text-align: right;\n",
       "    }\n",
       "</style>\n",
       "<table border=\"1\" class=\"dataframe\">\n",
       "  <thead>\n",
       "    <tr style=\"text-align: right;\">\n",
       "      <th></th>\n",
       "      <th>tag</th>\n",
       "      <th>filename</th>\n",
       "      <th>author</th>\n",
       "    </tr>\n",
       "  </thead>\n",
       "  <tbody>\n",
       "    <tr>\n",
       "      <th>0</th>\n",
       "      <td>(destral, tronc)</td>\n",
       "      <td>10247993b.jpg</td>\n",
       "      <td>Dolet, Étienne 1509-1546</td>\n",
       "    </tr>\n",
       "    <tr>\n",
       "      <th>1</th>\n",
       "      <td>(aguila, escorpi)</td>\n",
       "      <td>0127615a.jpg</td>\n",
       "      <td>Nájera, Esteban de</td>\n",
       "    </tr>\n",
       "    <tr>\n",
       "      <th>2</th>\n",
       "      <td>(ancora, dofi)</td>\n",
       "      <td>0076522a.jpg</td>\n",
       "      <td>Manuzio, Paolo 1512-1574</td>\n",
       "    </tr>\n",
       "    <tr>\n",
       "      <th>3</th>\n",
       "      <td>(ancora, dofi)</td>\n",
       "      <td>0076522b.jpg</td>\n",
       "      <td>Manuzio, Paolo 1512-1574</td>\n",
       "    </tr>\n",
       "    <tr>\n",
       "      <th>4</th>\n",
       "      <td>(ancora, dofi)</td>\n",
       "      <td>0076522c.jpg</td>\n",
       "      <td>Manuzio, Paolo 1512-1574</td>\n",
       "    </tr>\n",
       "    <tr>\n",
       "      <th>5</th>\n",
       "      <td>(esfera, hercules)</td>\n",
       "      <td>0009492a.jpg</td>\n",
       "      <td>Blaeu, Joan 1596-1673</td>\n",
       "    </tr>\n",
       "  </tbody>\n",
       "</table>\n",
       "</div>"
      ],
      "text/plain": [
       "                  tag       filename                    author\n",
       "0    (destral, tronc)  10247993b.jpg  Dolet, Étienne 1509-1546\n",
       "1   (aguila, escorpi)   0127615a.jpg        Nájera, Esteban de\n",
       "2      (ancora, dofi)   0076522a.jpg  Manuzio, Paolo 1512-1574\n",
       "3      (ancora, dofi)   0076522b.jpg  Manuzio, Paolo 1512-1574\n",
       "4      (ancora, dofi)   0076522c.jpg  Manuzio, Paolo 1512-1574\n",
       "5  (esfera, hercules)   0009492a.jpg     Blaeu, Joan 1596-1673"
      ]
     },
     "execution_count": 11,
     "metadata": {},
     "output_type": "execute_result"
    }
   ],
   "source": [
    "df_by_filename = pd.read_pickle('data_processing_txt.pkl')\n",
    "df_by_filename.head(6)"
   ]
  },
  {
   "cell_type": "code",
   "execution_count": null,
   "metadata": {},
   "outputs": [],
   "source": []
  }
 ],
 "metadata": {
  "kernelspec": {
   "display_name": "Python 3",
   "language": "python",
   "name": "python3"
  },
  "language_info": {
   "codemirror_mode": {
    "name": "ipython",
    "version": 3
   },
   "file_extension": ".py",
   "mimetype": "text/x-python",
   "name": "python",
   "nbconvert_exporter": "python",
   "pygments_lexer": "ipython3",
   "version": "3.7.3"
  }
 },
 "nbformat": 4,
 "nbformat_minor": 4
}
